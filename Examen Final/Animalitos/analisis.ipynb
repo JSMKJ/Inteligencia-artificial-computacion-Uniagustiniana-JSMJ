{
 "cells": [
  {
   "cell_type": "code",
   "execution_count": 1,
   "metadata": {},
   "outputs": [
    {
     "name": "stdout",
     "output_type": "stream",
     "text": [
      "        Fecha       Hora Animalito  Número\n",
      "0  2024-01-02   08:00 AM   Ballena       0\n",
      "1  2024-01-03   08:00 AM   Pescado      33\n",
      "2  2024-01-04   08:00 AM   Gallina      25\n",
      "3  2024-01-05   08:00 AM      Lapa      31\n",
      "4  2024-01-06   08:00 AM     Panda      61\n",
      "Datos guardados exitosamente en resultados_guacharoactivo_completo.csv\n"
     ]
    }
   ],
   "source": [
    "import pandas as pd\n",
    "\n",
    "# Diccionario que mapea el nombre del animal con su número\n",
    "mapa_animales = {\n",
    "    \"Delfín\": 0, \"Ballena\": 00, \"Carnero\": 1, \"Toro\": 2, \"Ciempiés\": 3, \"Alacrán\": 4,\n",
    "    \"León\": 5, \"Ranas\": 6, \"Perico\": 7, \"Ratón\": 8, \"Águila\": 9, \"Tigre\": 10, \"Gato\": 11,\n",
    "    \"Caballo\": 12, \"Mono\": 13, \"Paloma\": 14, \"Zorro\": 15, \"Oso\": 16, \"Pavo\": 17, \"Burro\": 18,\n",
    "    \"Chivo\": 19, \"Cochino\": 20, \"Gallo\": 21, \"Camello\": 22, \"Cebra\": 23, \"Iguana\": 24, \n",
    "    \"Gallina\": 25, \"Vaca\": 26, \"Perro\": 27, \"Zamuro\": 28, \"Elefante\": 29, \"Caimán\": 30,\n",
    "    \"Lapa\": 31, \"Ardilla\": 32, \"Pescado\": 33, \"Venado\": 34, \"Jirafa\": 35, \"Culebra\": 36,\n",
    "    \"Tortuga\": 37, \"Búfalo\": 38, \"Lechuza\": 39, \"Avispa\": 40, \"Canguro\": 41, \"Tucán\": 42,\n",
    "    \"Mariposa\": 43, \"Chigüire\": 44, \"Garza\": 45, \"Puma\": 46, \"Pavo Real\": 47, \n",
    "    \"Puercoespín\": 48, \"Pereza\": 49, \"Canario\": 50, \"Pelícano\": 51, \"Pulpo\": 52, \n",
    "    \"Caracol\": 53, \"Grillo\": 54, \"Oso Hormiguero\": 55, \"Tiburón\": 56, \"Pato\": 57, \n",
    "    \"Hormiga\": 58, \"Pantera\": 59, \"Camaleón\": 60, \"Panda\": 61, \"Cachicamo\": 62, \n",
    "    \"Cangrejo\": 63, \"Gavilán\": 64, \"Araña\": 65, \"Lobo\": 66, \"Avestruz\": 67, \"Jaguar\": 68, \n",
    "    \"Conejo\": 69, \"Bisonte\": 70, \"Guacamaya\": 71, \"Gorila\": 72, \"Hipopótamo\": 73, \n",
    "    \"Turpial\": 74, \"Guácharo\": 75\n",
    "}\n",
    "\n",
    "# Leer el archivo de resultados (se asume que el archivo está en el formato adecuado)\n",
    "with open(\"resultados_guacharoactivo_2024.txt\", \"r\", encoding=\"utf-8\") as archivo:\n",
    "    lineas = archivo.readlines()\n",
    "\n",
    "# Procesar las líneas para extraer la información\n",
    "datos = []\n",
    "for linea in lineas:\n",
    "    # Filtrar las líneas vacías o irrelevantes\n",
    "    if linea.strip():\n",
    "        partes = linea.strip().split(\",\")\n",
    "        if len(partes) == 3:\n",
    "            fecha, hora, animalito = partes\n",
    "            # Homologar el número del animal según el diccionario\n",
    "            numero = mapa_animales.get(animalito.strip(), None)\n",
    "            if numero is not None:\n",
    "                datos.append([fecha, hora, animalito.strip(), numero])\n",
    "\n",
    "# Crear el DataFrame con los resultados\n",
    "df_resultados = pd.DataFrame(datos, columns=[\"Fecha\", \"Hora\", \"Animalito\", \"Número\"])\n",
    "\n",
    "# Mostrar las primeras filas del DataFrame para verificar\n",
    "print(df_resultados.head())\n",
    "\n",
    "# Guardar el DataFrame a un archivo CSV\n",
    "df_resultados.to_csv(\"resultados_guacharoactivo_completo.csv\", index=False, encoding=\"utf-8\")\n",
    "\n",
    "print(\"Datos guardados exitosamente en resultados_guacharoactivo_completo.csv\")\n"
   ]
  },
  {
   "cell_type": "code",
   "execution_count": 2,
   "metadata": {},
   "outputs": [
    {
     "data": {
      "text/plain": [
       "Fecha        9834\n",
       "Hora         9834\n",
       "Animalito    9834\n",
       "Número       9834\n",
       "dtype: int64"
      ]
     },
     "execution_count": 2,
     "metadata": {},
     "output_type": "execute_result"
    }
   ],
   "source": [
    "df_resultados.count()"
   ]
  },
  {
   "cell_type": "markdown",
   "metadata": {},
   "source": [
    "# RandomForestClassifier"
   ]
  },
  {
   "cell_type": "code",
   "execution_count": null,
   "metadata": {},
   "outputs": [
    {
     "name": "stderr",
     "output_type": "stream",
     "text": [
      "C:\\Users\\braya\\AppData\\Local\\Temp\\ipykernel_5856\\2049028061.py:25: SettingWithCopyWarning: \n",
      "A value is trying to be set on a copy of a slice from a DataFrame.\n",
      "Try using .loc[row_indexer,col_indexer] = value instead\n",
      "\n",
      "See the caveats in the documentation: https://pandas.pydata.org/pandas-docs/stable/user_guide/indexing.html#returning-a-view-versus-a-copy\n",
      "  X['Fecha'] = (X['Fecha'] - X['Fecha'].min()).dt.days  # Convierte a días\n"
     ]
    },
    {
     "name": "stdout",
     "output_type": "stream",
     "text": [
      "Precisión del modelo: 0.9829\n",
      "\n",
      "Puntuaciones de validación cruzada: [1. 1. 1. 1. 1.]\n",
      "Puntuación media de validación cruzada: 1.0000\n",
      "        Fecha  Hora Animalito\n",
      "0  2024-12-31     8   Canguro\n",
      "1  2024-12-31     9   Tortuga\n",
      "2  2024-12-31    10   Canguro\n",
      "3  2024-12-31    11   Canguro\n",
      "4  2024-12-31    12   Tortuga\n",
      "5  2024-12-31    13    Avispa\n",
      "6  2024-12-31    14    Avispa\n",
      "7  2024-12-31    15    Avispa\n",
      "8  2024-12-31    16    Avispa\n",
      "9  2024-12-31    17    Avispa\n",
      "10 2024-12-31    18    Avispa\n",
      "11 2024-12-31    19    Venado\n"
     ]
    }
   ],
   "source": [
    "import pandas as pd\n",
    "from sklearn.ensemble import RandomForestClassifier\n",
    "from sklearn.model_selection import train_test_split, cross_val_score\n",
    "from sklearn.metrics import accuracy_score, confusion_matrix, classification_report\n",
    "import seaborn as sns\n",
    "import matplotlib.pyplot as plt\n",
    "\n",
    "# Cargar los datos desde el archivo CSV\n",
    "df = pd.read_csv(\"resultados_guacharoactivo_completo.csv\")\n",
    "\n",
    "# Limpiar los datos si es necesario, eliminando espacios adicionales en la columna 'Hora'\n",
    "df['Hora'] = df['Hora'].str.strip()\n",
    "\n",
    "# Convertir la columna 'Fecha' a tipo datetime\n",
    "df['Fecha'] = pd.to_datetime(df['Fecha'], format='%Y-%m-%d')\n",
    "\n",
    "# Convertir la columna 'Hora' al formato adecuado (extraemos solo la hora en formato 24 horas)\n",
    "df['Hora'] = pd.to_datetime(df['Hora'], format='%I:%M %p').dt.hour\n",
    "\n",
    "# Definir las características (X) y la variable objetivo (y)\n",
    "X = df[['Fecha', 'Hora', 'Número']]  # Usamos la fecha, hora y número como características\n",
    "y = df['Animalito']  # El objetivo es predecir el nombre del animalito\n",
    "\n",
    "# Convertir la fecha a un número (por ejemplo, número de días desde una fecha base)\n",
    "X['Fecha'] = (X['Fecha'] - X['Fecha'].min()).dt.days  # Convierte a días\n",
    "\n",
    "# Manejar valores NaN\n",
    "# Eliminar filas con valores NaN (si los hubiera)\n",
    "X = X.dropna()\n",
    "y = y[X.index]  # Asegurarse de que `y` corresponda con `X` después de eliminar filas\n",
    "\n",
    "# Dividir los datos en entrenamiento y prueba\n",
    "X_train, X_test, y_train, y_test = train_test_split(X, y, test_size=0.2, random_state=42)\n",
    "\n"
   ]
  },
  {
   "cell_type": "code",
   "execution_count": 27,
   "metadata": {},
   "outputs": [
    {
     "name": "stdout",
     "output_type": "stream",
     "text": [
      "        Fecha  Hora Animalito\n",
      "0  2024-12-31     8   Canguro\n",
      "1  2024-12-31     9   Tortuga\n",
      "2  2024-12-31    10   Canguro\n",
      "3  2024-12-31    11   Canguro\n",
      "4  2024-12-31    12   Tortuga\n",
      "5  2024-12-31    13    Avispa\n",
      "6  2024-12-31    14    Avispa\n",
      "7  2024-12-31    15    Avispa\n",
      "8  2024-12-31    16    Avispa\n",
      "9  2024-12-31    17    Avispa\n",
      "10 2024-12-31    18    Avispa\n",
      "11 2024-12-31    19    Venado\n"
     ]
    }
   ],
   "source": [
    "# Mostrar las predicciones para los 12 sorteos del día siguiente\n",
    "print(predicted_df)"
   ]
  },
  {
   "cell_type": "markdown",
   "metadata": {},
   "source": [
    "# Redes reuronales"
   ]
  },
  {
   "cell_type": "code",
   "execution_count": null,
   "metadata": {},
   "outputs": [
    {
     "name": "stderr",
     "output_type": "stream",
     "text": [
      "c:\\Users\\braya\\AppData\\Local\\Programs\\Python\\Python312\\Lib\\site-packages\\keras\\src\\layers\\core\\dense.py:87: UserWarning: Do not pass an `input_shape`/`input_dim` argument to a layer. When using Sequential models, prefer using an `Input(shape)` object as the first layer in the model instead.\n",
      "  super().__init__(activity_regularizer=activity_regularizer, **kwargs)\n"
     ]
    },
    {
     "name": "stdout",
     "output_type": "stream",
     "text": [
      "\u001b[1m61/61\u001b[0m \u001b[32m━━━━━━━━━━━━━━━━━━━━\u001b[0m\u001b[37m\u001b[0m \u001b[1m0s\u001b[0m 989us/step\n"
     ]
    },
    {
     "name": "stderr",
     "output_type": "stream",
     "text": [
      "c:\\Users\\braya\\AppData\\Local\\Programs\\Python\\Python312\\Lib\\site-packages\\keras\\src\\layers\\core\\dense.py:87: UserWarning: Do not pass an `input_shape`/`input_dim` argument to a layer. When using Sequential models, prefer using an `Input(shape)` object as the first layer in the model instead.\n",
      "  super().__init__(activity_regularizer=activity_regularizer, **kwargs)\n"
     ]
    },
    {
     "name": "stdout",
     "output_type": "stream",
     "text": [
      "\u001b[1m61/61\u001b[0m \u001b[32m━━━━━━━━━━━━━━━━━━━━\u001b[0m\u001b[37m\u001b[0m \u001b[1m0s\u001b[0m 1ms/step  \n"
     ]
    },
    {
     "name": "stderr",
     "output_type": "stream",
     "text": [
      "c:\\Users\\braya\\AppData\\Local\\Programs\\Python\\Python312\\Lib\\site-packages\\keras\\src\\layers\\core\\dense.py:87: UserWarning: Do not pass an `input_shape`/`input_dim` argument to a layer. When using Sequential models, prefer using an `Input(shape)` object as the first layer in the model instead.\n",
      "  super().__init__(activity_regularizer=activity_regularizer, **kwargs)\n"
     ]
    },
    {
     "name": "stdout",
     "output_type": "stream",
     "text": [
      "\u001b[1m61/61\u001b[0m \u001b[32m━━━━━━━━━━━━━━━━━━━━\u001b[0m\u001b[37m\u001b[0m \u001b[1m0s\u001b[0m 1ms/step  \n"
     ]
    },
    {
     "name": "stderr",
     "output_type": "stream",
     "text": [
      "c:\\Users\\braya\\AppData\\Local\\Programs\\Python\\Python312\\Lib\\site-packages\\keras\\src\\layers\\core\\dense.py:87: UserWarning: Do not pass an `input_shape`/`input_dim` argument to a layer. When using Sequential models, prefer using an `Input(shape)` object as the first layer in the model instead.\n",
      "  super().__init__(activity_regularizer=activity_regularizer, **kwargs)\n"
     ]
    },
    {
     "name": "stdout",
     "output_type": "stream",
     "text": [
      "\u001b[1m61/61\u001b[0m \u001b[32m━━━━━━━━━━━━━━━━━━━━\u001b[0m\u001b[37m\u001b[0m \u001b[1m0s\u001b[0m 1ms/step  \n"
     ]
    },
    {
     "name": "stderr",
     "output_type": "stream",
     "text": [
      "c:\\Users\\braya\\AppData\\Local\\Programs\\Python\\Python312\\Lib\\site-packages\\keras\\src\\layers\\core\\dense.py:87: UserWarning: Do not pass an `input_shape`/`input_dim` argument to a layer. When using Sequential models, prefer using an `Input(shape)` object as the first layer in the model instead.\n",
      "  super().__init__(activity_regularizer=activity_regularizer, **kwargs)\n"
     ]
    },
    {
     "name": "stdout",
     "output_type": "stream",
     "text": [
      "\u001b[1m61/61\u001b[0m \u001b[32m━━━━━━━━━━━━━━━━━━━━\u001b[0m\u001b[37m\u001b[0m \u001b[1m0s\u001b[0m 1ms/step\n",
      "Puntuaciones de validación cruzada: [0.9591731266149871, 0.9633074935400516, 0.8997416020671835, 0.9183462532299742, 0.9348837209302325]\n",
      "Puntuación media de validación cruzada: 0.9351\n"
     ]
    }
   ],
   "source": [
    "import pandas as pd\n",
    "from sklearn.model_selection import train_test_split, KFold\n",
    "from sklearn.preprocessing import StandardScaler\n",
    "from tensorflow.keras.models import Sequential\n",
    "from tensorflow.keras.layers import Dense\n",
    "from sklearn.metrics import accuracy_score\n",
    "import numpy as np\n",
    "\n",
    "\n"
   ]
  }
 ],
 "metadata": {
  "kernelspec": {
   "display_name": "Python 3",
   "language": "python",
   "name": "python3"
  },
  "language_info": {
   "codemirror_mode": {
    "name": "ipython",
    "version": 3
   },
   "file_extension": ".py",
   "mimetype": "text/x-python",
   "name": "python",
   "nbconvert_exporter": "python",
   "pygments_lexer": "ipython3",
   "version": "3.13.2"
  }
 },
 "nbformat": 4,
 "nbformat_minor": 2
}
