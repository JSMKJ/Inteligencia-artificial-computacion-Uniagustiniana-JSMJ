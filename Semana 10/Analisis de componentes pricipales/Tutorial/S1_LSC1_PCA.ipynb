{
 "cells": [
  {
   "cell_type": "markdown",
   "metadata": {},
   "source": [
    "#  Análisis de Componentes Principales. Fundamentos Teóricos."
   ]
  },
  {
   "cell_type": "markdown",
   "metadata": {},
   "source": [
    "Este *cuaderno* trata sobre el Análisis de Componentes Principales y sobre la manera en que se puede utilizarlos para reducir la dimensionalidad de datos. El objetivo del *cuaderno* es que aprenda que son los componentes principales, que reconozca las características y el funcionamiento del algoritmo de componentes principales, y a construir e implementar este algoritmo.\n",
    "\n",
    "**NO** es necesario editar el archivo o hacer una entrega. Sin embargo, los ejemplos contienen celdas con código ejecutable (`en gris`), que podrá modificar  libremente. Esta puede ser una buena forma de aprender nuevas funcionalidades del *cuaderno*, o experimentar variaciones en los códigos de ejemplo."
   ]
  },
  {
   "cell_type": "markdown",
   "metadata": {},
   "source": [
    "## Introducción\n",
    "\n",
    "Los grandes conjuntos de datos son cada vez más comunes y, a menudo, difíciles de interpretar. Para hacerlo, se requieren métodos que permitan reducir drásticamente su dimensionalidad de una manera interpretable, de modo que se conserve la mayor parte de la información de los datos.\n",
    "\n",
    "El análisis de componentes principales, o PCA por sus siglas en inglés, es una técnica de aprendizaje no supervisado que permite reducir la dimensionalidad de tales conjuntos de datos, aumentando la interpretabilidad, pero al mismo tiempo minimizando la pérdida de información. Se han desarrollado muchas técnicas para este propósito, pero el análisis de componentes principales es uno de los más antiguos y más utilizados. Su idea es simple: reducir la dimensionalidad de un conjunto de datos, mientras se preserva la mayor \"variabilidad\"  posible.\n",
    "\n",
    "A modo de ejemplo, supongamos que disponemos de una base de datos de 100 clientes de un banco que cuenta con información sobre 10 variables que miden riesgo crediticio de los clientes. Estas variables contienen información sobre transacciones bancarias, historia crediticia, entre otras. La pregunta que queremos responder es si es posible construir una suerte de índice que permita condensar todas estas dimensiones en una sola que resuma el riesgo crediticio.\n",
    "\n",
    "La primer respuesta obvia sería construir un índice compuesto por el promedio de estas 10 variables. Sin embargo, todas estas variables pueden contener información redundante o no tener la misma importancia. El problema entonces se puede pensar como cuál es la mejor forma de\n",
    "construir este índice combinando linealmente estas variables.\n",
    "\n"
   ]
  },
  {
   "cell_type": "markdown",
   "metadata": {},
   "source": [
    "\n",
    "## ¿Qué son los componentes principales?\n",
    "\n",
    "\n",
    "Supongamos que queremos visualizar $n$ observaciones de las cuales tenemos $k$ variables o atributos, representadas por $x_1,x_2,\\dots,x_k$ como parte de un análisis descriptivo. Siguiendo el ejemplo anterior, $n$ serian los 100 clientes y $k$ las 10 variables que miden el riesgo crediticio. Una forma de hacer el análisis descriptivo es haciendo diagramas de dispersión para las $n$ observaciones examinando dos variables por vez. El problema acá se hace evidente, si tenemos 10 variables tendríamos que examinar 45 gráficas $\\left(\\left(\\begin{array}{c}\n",
    "10\\\\\n",
    "2\n",
    "\\end{array}\\right)=\\frac{10\\times9}{2}=45\\right)$\n",
    "\n",
    "Si $k$ es muy grande, como suele serlo en estas aplicaciones, sería imposible examinar todas las gráficas. Necesitamos un método que nos permita visualizar cuando la dimensión $k$ es muy grande. El análisis de componentes principales es una herramienta que nos permite alcanzar este objetivo.\n",
    "\n",
    "Intuitivamente, PCA plantea que cada observación se encuentra en un espacio $k-dimensional$, pero en el que no todas estas dimensiones son igualmente informativas. Por lo tanto, PCA busca representar los datos en un espacio de menor dimensión, reteniendo la mayor cantidad de información posible. Entonces estas nuevas dimensiones encontradas por PCA, llamadas componentes, es una combinación lineal de las variables originales.\n",
    "\n",
    "El primer componente de un conjunto de variables $X_1,X_2,\\dots,X_k$ es\n",
    "\n",
    "\\begin{align}\n",
    "f_1= \\delta_{11} x_1+ \\delta_{12} x_2 + \\dots + \\delta_{1k} x_k\n",
    "\\end{align}\n",
    "\n",
    "Donde $f_1$ denota al primer componente principal y los $\\delta_{ij}$ se conocen como pesos o *loadings* del primer componente principal. Esta ecuación ilustra también el hecho de que el primer componente principal es una combinación lineal de las variables originales. La pregunta que naturalmente surge es: ¿Cómo se calculan estos componentes de forma tal que preserven la mayor información posible?\n"
   ]
  },
  {
   "cell_type": "markdown",
   "metadata": {},
   "source": [
    "## Cálculo de los componentes\n",
    "\n",
    "### Cálculo del primer componente\n",
    "\n",
    "\n",
    "Formalmente, supongamos que $X$ es una matriz $n \\times k$ que contiene los datos, es decir, las $n$ observaciones de las $k$ variables. Asumimos que cada una de las variables en $X$ están centradas para tener media cero. La matriz $X$, a su vez, tiene una matriz de covarianza asociada denotada con $S=Var(X)$, que por definición es una matriz cuadrada de orden $k$. \n",
    "\n",
    "La tarea del primer componente principal es encontrar la combinación lineal de las variables originales que maximiza la varianza, es decir, preservan la mayor información posible. El objetivo es crear un índice $f_1$ que tiene la siguiente forma:\n",
    "\n",
    "\\begin{align}\n",
    "f_1 &= X \\delta'_1 \\\\\n",
    "    &= \\delta_{11} x_1+ \\delta_{12} x_2 + \\dots + \\delta_{1k} x_k\n",
    "\\end{align}\n",
    "\n",
    "en donde $\\delta_1$ es un vector de $k$ números reales $(\\delta_1= \\delta_{11},\\dots, \\delta_{1k})$. El problema consiste en elegir $\\delta_1$ óptimamente, ya que este indice va a ser la \"mejor\" combinación lineal de $x_1, x_2, \\dots, x_k$. Definimos como \"mejor\" a aquella combinación lineal que maximiza la varianza. Dicho de otra forma, vamos a buscar maximizar la varianza de forma tal que podamos reproducir de la mejor manera posible la variabilidad (información) original de las variables $x_j$.\n",
    "\n",
    "Notando que\n",
    "\n",
    "\\begin{align}\n",
    "Var(f_1) &= Var(X \\delta'_1) \\\\\n",
    "       &= \\delta_1 Var(X ) \\delta'_1 \\\\\n",
    "       &= \\delta_1 S \\delta'_1 \n",
    "\\end{align}\n",
    "\n",
    "el problema se reduce a elegir $\\delta_1$ de forma que maximice $Var(X \\delta_1)$. Maximizar $\\delta_1 S \\delta'_1$ tiene como solución trivial llevar $\\delta_1$ a infinito $(\\delta_1 \\rightarrow \\infty)$. Para que esta maximización tenga solución en la practica se impone una restricción adicional que normaliza $\\delta_1$:\n",
    "\n",
    "\\begin{align}\n",
    "\\delta_1\\delta'_1=1\n",
    "\\end{align}\n",
    "\n",
    "Esto restringe a que la suma del cuadrado de los  pesos o *loadings* sean igual a uno, ya que si lo restringimos a que sea un número arbitrariamente grande esto podría resultar en una varianza arbitrariamente grande. \n",
    "\n",
    "El problema queda definido de la siguiente manera:\n",
    "\n",
    "\\begin{align}\n",
    "\\underset{\\delta_1}{max}\\,\\, \\delta_1 S \\delta'_1 \\\\ \n",
    "\\text{sujeto a}  \\\\ \n",
    "\\delta_1 \\delta'_1 = 1 \n",
    "\\end{align}\n",
    "\n",
    "maximiza $\\delta_1 S \\delta'_1$ restringiendo que $\\delta_1\\delta'_1=1$. Escribiendo el Lagrangiano,\n",
    "\n",
    "\\begin{align}\n",
    "\\mathcal{L} = \\delta_1 S \\delta'_1 + \\lambda_1 (1-\\delta_1\\delta'_1)\n",
    "\\end{align}\n",
    "\n",
    "y maximizamos esta expresión de la forma habitual derivando respecto a $\\delta_1$ e igualando a cero:\n",
    "\n",
    "\\begin{align}\n",
    "\\frac{\\partial \\mathcal{L}}{\\partial \\delta_1}=S \\delta'_1 - \\lambda_1 \\delta'_1 =0\n",
    "\\end{align}\n",
    "\n",
    "Reordenando: \n",
    "\n",
    "\\begin{align}\n",
    "S \\delta'_1 = \\lambda_1 \\delta'_1\n",
    "\\end{align}\n",
    "\n",
    "En el óptimo, $\\delta_1$ es el eigenvector correspondiente al eigenvalor $\\lambda$. Pre multiplicando la ecuación anterior por $\\delta_1$ y usando la restricción $\\delta_1\\delta'_1=1$:\n",
    "\n",
    "\\begin{align}\n",
    "\\delta_1 S \\delta'_1 = \\lambda_1 \n",
    "\\end{align}\n",
    "\n",
    "para maximizar $\\delta_1 S \\delta'_1$ debemos elegir $\\lambda_1$ igual al máximo eigenvalor de $S$ y $\\delta_1$ igual al eigenvalor correspondiente. Notando además que $\\delta_1 S \\delta'_1=Var(X \\delta'_1)$, el problema de encontrar la mejor combinación lineal que reproduce la variabilidad en $X$ se reduce a encontrar el mayor eigenvalor de $S$ y su correspondiente eigenvector.\n"
   ]
  },
  {
   "cell_type": "markdown",
   "metadata": {},
   "source": [
    "#### Ejemplo cálculo primer componente\n",
    "\n",
    "Ilustremos en detalle el cálculo del primer componente principal en `Python` utilizando datos de la  \n",
    "[Encuesta Nacional de Presupuestos de los Hogares (ENPH) de Colombia](https://www.dane.gov.co/index.php/estadisticas-por-tema/pobreza-y-condiciones-de-vida/encuesta-nacional-de-presupuestos-de-los-hogares-enph), realizada por el DANE en 2017. El archivo `gasto_col_2017_norm.csv` disponible en la carpeta `data`, contiene los gastos individuales promedios estandarizados en Salud, Transporte, y Educación para 38 ciudades colombianas."
   ]
  },
  {
   "cell_type": "code",
   "execution_count": 1,
   "metadata": {
    "code_folding": []
   },
   "outputs": [
    {
     "data": {
      "text/html": [
       "<div>\n",
       "<style scoped>\n",
       "    .dataframe tbody tr th:only-of-type {\n",
       "        vertical-align: middle;\n",
       "    }\n",
       "\n",
       "    .dataframe tbody tr th {\n",
       "        vertical-align: top;\n",
       "    }\n",
       "\n",
       "    .dataframe thead th {\n",
       "        text-align: right;\n",
       "    }\n",
       "</style>\n",
       "<table border=\"1\" class=\"dataframe\">\n",
       "  <thead>\n",
       "    <tr style=\"text-align: right;\">\n",
       "      <th></th>\n",
       "      <th>Salud</th>\n",
       "      <th>Transporte</th>\n",
       "      <th>Educación</th>\n",
       "    </tr>\n",
       "    <tr>\n",
       "      <th>Ciudad</th>\n",
       "      <th></th>\n",
       "      <th></th>\n",
       "      <th></th>\n",
       "    </tr>\n",
       "  </thead>\n",
       "  <tbody>\n",
       "    <tr>\n",
       "      <th>Arauca</th>\n",
       "      <td>-0.125062</td>\n",
       "      <td>-1.344088</td>\n",
       "      <td>-1.028321</td>\n",
       "    </tr>\n",
       "    <tr>\n",
       "      <th>Armenia</th>\n",
       "      <td>0.434314</td>\n",
       "      <td>0.691669</td>\n",
       "      <td>0.528711</td>\n",
       "    </tr>\n",
       "    <tr>\n",
       "      <th>Barrancabermeja</th>\n",
       "      <td>-0.752697</td>\n",
       "      <td>-0.093582</td>\n",
       "      <td>0.966586</td>\n",
       "    </tr>\n",
       "    <tr>\n",
       "      <th>Barranquilla</th>\n",
       "      <td>-0.859420</td>\n",
       "      <td>0.275332</td>\n",
       "      <td>0.503810</td>\n",
       "    </tr>\n",
       "    <tr>\n",
       "      <th>Bogotá</th>\n",
       "      <td>2.745217</td>\n",
       "      <td>2.313395</td>\n",
       "      <td>3.943969</td>\n",
       "    </tr>\n",
       "  </tbody>\n",
       "</table>\n",
       "</div>"
      ],
      "text/plain": [
       "                    Salud  Transporte  Educación\n",
       "Ciudad                                          \n",
       "Arauca          -0.125062   -1.344088  -1.028321\n",
       "Armenia          0.434314    0.691669   0.528711\n",
       "Barrancabermeja -0.752697   -0.093582   0.966586\n",
       "Barranquilla    -0.859420    0.275332   0.503810\n",
       "Bogotá           2.745217    2.313395   3.943969"
      ]
     },
     "execution_count": 1,
     "metadata": {},
     "output_type": "execute_result"
    }
   ],
   "source": [
    "#Cargamos las librerías a utilizar\n",
    "import pandas as pd\n",
    "import numpy as np\n",
    "\n",
    "\n",
    "# Cargamos y visualizamos la primeras observaciones de los datos\n",
    "gasto = pd.read_csv('data/gasto_col_2017_norm.csv')\n",
    "gasto = gasto.set_index(\"Ciudad\")\n",
    "gasto.head()"
   ]
  },
  {
   "cell_type": "markdown",
   "metadata": {},
   "source": [
    "La matriz de varianzas es:"
   ]
  },
  {
   "cell_type": "code",
   "execution_count": 2,
   "metadata": {},
   "outputs": [
    {
     "data": {
      "text/html": [
       "<div>\n",
       "<style scoped>\n",
       "    .dataframe tbody tr th:only-of-type {\n",
       "        vertical-align: middle;\n",
       "    }\n",
       "\n",
       "    .dataframe tbody tr th {\n",
       "        vertical-align: top;\n",
       "    }\n",
       "\n",
       "    .dataframe thead th {\n",
       "        text-align: right;\n",
       "    }\n",
       "</style>\n",
       "<table border=\"1\" class=\"dataframe\">\n",
       "  <thead>\n",
       "    <tr style=\"text-align: right;\">\n",
       "      <th></th>\n",
       "      <th>Salud</th>\n",
       "      <th>Transporte</th>\n",
       "      <th>Educación</th>\n",
       "    </tr>\n",
       "  </thead>\n",
       "  <tbody>\n",
       "    <tr>\n",
       "      <th>Salud</th>\n",
       "      <td>1.000000</td>\n",
       "      <td>0.687662</td>\n",
       "      <td>0.644640</td>\n",
       "    </tr>\n",
       "    <tr>\n",
       "      <th>Transporte</th>\n",
       "      <td>0.687662</td>\n",
       "      <td>1.000000</td>\n",
       "      <td>0.541518</td>\n",
       "    </tr>\n",
       "    <tr>\n",
       "      <th>Educación</th>\n",
       "      <td>0.644640</td>\n",
       "      <td>0.541518</td>\n",
       "      <td>1.000000</td>\n",
       "    </tr>\n",
       "  </tbody>\n",
       "</table>\n",
       "</div>"
      ],
      "text/plain": [
       "               Salud  Transporte  Educación\n",
       "Salud       1.000000    0.687662   0.644640\n",
       "Transporte  0.687662    1.000000   0.541518\n",
       "Educación   0.644640    0.541518   1.000000"
      ]
     },
     "execution_count": 2,
     "metadata": {},
     "output_type": "execute_result"
    }
   ],
   "source": [
    "S = gasto.cov()\n",
    "S"
   ]
  },
  {
   "cell_type": "markdown",
   "metadata": {},
   "source": [
    "Los valores propios son las raíces de la ecuación:\n",
    "\n",
    "$$|S-\\lambda I| =0 $$\n",
    "\n",
    "y los obtenemos en `Python` con:"
   ]
  },
  {
   "cell_type": "code",
   "execution_count": 3,
   "metadata": {},
   "outputs": [
    {
     "data": {
      "text/plain": [
       "array([2.25116235, 0.28709315, 0.4617445 ])"
      ]
     },
     "execution_count": 3,
     "metadata": {},
     "output_type": "execute_result"
    }
   ],
   "source": [
    "eig_val, eig_vec = np.linalg.eig(S)\n",
    "eig_val"
   ]
  },
  {
   "cell_type": "markdown",
   "metadata": {},
   "source": [
    "El máximo eigenvalor es el primero y el eigenvector  asociado a este eigenvalor nos dará los pesos o *loadings* del primer componente principal:"
   ]
  },
  {
   "cell_type": "code",
   "execution_count": 4,
   "metadata": {},
   "outputs": [
    {
     "data": {
      "text/plain": [
       "array([[0.60164121, 0.57198642, 0.55754766]])"
      ]
     },
     "execution_count": 4,
     "metadata": {},
     "output_type": "execute_result"
    }
   ],
   "source": [
    "eig_vec=eig_vec.T\n",
    "eig_vec[[0]]"
   ]
  },
  {
   "cell_type": "markdown",
   "metadata": {},
   "source": [
    "Por lo tanto, el primer componente principal es:\n",
    "\n",
    "\\begin{align}\n",
    "f_1 =  0.60 \\times Salud + 0.57 \\times Transporte + 0.55 \\times Educación\n",
    "\\end{align}\n",
    "\n",
    "Calculando este componente para cada una de las ciudades tenemos entonces un índice que reduce las tres variables en una:"
   ]
  },
  {
   "cell_type": "code",
   "execution_count": 5,
   "metadata": {},
   "outputs": [
    {
     "data": {
      "text/html": [
       "<div>\n",
       "<style scoped>\n",
       "    .dataframe tbody tr th:only-of-type {\n",
       "        vertical-align: middle;\n",
       "    }\n",
       "\n",
       "    .dataframe tbody tr th {\n",
       "        vertical-align: top;\n",
       "    }\n",
       "\n",
       "    .dataframe thead th {\n",
       "        text-align: right;\n",
       "    }\n",
       "</style>\n",
       "<table border=\"1\" class=\"dataframe\">\n",
       "  <thead>\n",
       "    <tr style=\"text-align: right;\">\n",
       "      <th></th>\n",
       "      <th>CP1</th>\n",
       "    </tr>\n",
       "    <tr>\n",
       "      <th>Ciudad</th>\n",
       "      <th></th>\n",
       "    </tr>\n",
       "  </thead>\n",
       "  <tbody>\n",
       "    <tr>\n",
       "      <th>Arauca</th>\n",
       "      <td>-1.417381</td>\n",
       "    </tr>\n",
       "    <tr>\n",
       "      <th>Armenia</th>\n",
       "      <td>0.951708</td>\n",
       "    </tr>\n",
       "    <tr>\n",
       "      <th>Barrancabermeja</th>\n",
       "      <td>0.032537</td>\n",
       "    </tr>\n",
       "    <tr>\n",
       "      <th>Barranquilla</th>\n",
       "      <td>-0.078678</td>\n",
       "    </tr>\n",
       "    <tr>\n",
       "      <th>Bogotá</th>\n",
       "      <td>5.173817</td>\n",
       "    </tr>\n",
       "  </tbody>\n",
       "</table>\n",
       "</div>"
      ],
      "text/plain": [
       "                      CP1\n",
       "Ciudad                   \n",
       "Arauca          -1.417381\n",
       "Armenia          0.951708\n",
       "Barrancabermeja  0.032537\n",
       "Barranquilla    -0.078678\n",
       "Bogotá           5.173817"
      ]
     },
     "execution_count": 5,
     "metadata": {},
     "output_type": "execute_result"
    }
   ],
   "source": [
    "f1=gasto.dot(eig_vec[[0]].T) #calculamos f1\n",
    "f1.columns = ['CP1'] #nombramos la columna del primer componente como CP1\n",
    "f1.head()"
   ]
  },
  {
   "cell_type": "markdown",
   "metadata": {},
   "source": [
    "Si ordenamos las ciudades según esta nueva variable construida (PCA), se puede notar que las ciudades quedan prácticamente ordenadas por su ingreso. El primer componente principal entonces esta redescubriendo  el ingreso de estas ciudades."
   ]
  },
  {
   "cell_type": "code",
   "execution_count": 6,
   "metadata": {},
   "outputs": [
    {
     "data": {
      "text/html": [
       "<div>\n",
       "<style scoped>\n",
       "    .dataframe tbody tr th:only-of-type {\n",
       "        vertical-align: middle;\n",
       "    }\n",
       "\n",
       "    .dataframe tbody tr th {\n",
       "        vertical-align: top;\n",
       "    }\n",
       "\n",
       "    .dataframe thead th {\n",
       "        text-align: right;\n",
       "    }\n",
       "</style>\n",
       "<table border=\"1\" class=\"dataframe\">\n",
       "  <thead>\n",
       "    <tr style=\"text-align: right;\">\n",
       "      <th></th>\n",
       "      <th>CP1</th>\n",
       "    </tr>\n",
       "    <tr>\n",
       "      <th>Ciudad</th>\n",
       "      <th></th>\n",
       "    </tr>\n",
       "  </thead>\n",
       "  <tbody>\n",
       "    <tr>\n",
       "      <th>Bogotá</th>\n",
       "      <td>5.173817</td>\n",
       "    </tr>\n",
       "    <tr>\n",
       "      <th>Tunja</th>\n",
       "      <td>2.408399</td>\n",
       "    </tr>\n",
       "    <tr>\n",
       "      <th>Medellín y A.M.</th>\n",
       "      <td>2.213589</td>\n",
       "    </tr>\n",
       "    <tr>\n",
       "      <th>Manizales y A.M.</th>\n",
       "      <td>1.849532</td>\n",
       "    </tr>\n",
       "    <tr>\n",
       "      <th>Cali</th>\n",
       "      <td>1.638936</td>\n",
       "    </tr>\n",
       "  </tbody>\n",
       "</table>\n",
       "</div>"
      ],
      "text/plain": [
       "                       CP1\n",
       "Ciudad                    \n",
       "Bogotá            5.173817\n",
       "Tunja             2.408399\n",
       "Medellín y A.M.   2.213589\n",
       "Manizales y A.M.  1.849532\n",
       "Cali              1.638936"
      ]
     },
     "execution_count": 6,
     "metadata": {},
     "output_type": "execute_result"
    }
   ],
   "source": [
    "f1.sort_values(by='CP1', ascending=False).head()"
   ]
  },
  {
   "cell_type": "markdown",
   "metadata": {},
   "source": [
    "### Cálculo del segundo componente principal\n",
    "\n",
    "Luego de calcular el primer componente principal $f_1$, podemos encontrar también el segundo componente principal, $f_2$:\n",
    "\n",
    "\\begin{align}\n",
    "f_2 &= X \\delta'_2 \\\\ \n",
    "    &= \\delta_{21} x_1+ \\delta_{22} x_2 + \\dots + \\delta_{2k} x_k\n",
    "\\end{align}\n",
    "\n",
    "El segundo componente principal, será la combinación lineal que tiene la máxima varianza de todas las combinaciones lineales ortogonales a $f_1$. En otras palabras, responde a la pregunta: ¿Cuál es la mejor combinación lineal de las variables $x_1,x_2,\\dots,x_k$ no correlacionada al primer componente principal? Intuitivamente, esta es la \"segunda mejor\" combinación lineal de $x_1,x_2,\\dots,x_k$, que no esta contenida en el primer componente. \n",
    "\n",
    "\n",
    "\n",
    "El cálculo del segundo componente entonces responde al siguiente problema:\n",
    "\n",
    "\\begin{align}\n",
    "\\underset{\\delta_2}{max}\\,\\, \\delta_2 S \\delta'_2 \\\\\n",
    "\\text{sujeto a}   \\\\\n",
    "\\delta_2 \\delta'_2 &= 1  \n",
    "y \\\\ \n",
    "\\delta_2 \\delta'_1 &=0 \\\\ \\nonumber\n",
    "\\end{align}\n",
    "\n",
    "\n",
    "Donde el objetivo a maximizar y la primera restricción son similares al del problema del primer componente. La diferencia surge en la segunda restricción donde imponemos que $\\delta_1 \\delta'_2  =0$ lo que asegura que los componentes no estén correlacionados (que sean ortogonales). Escribiendo el Lagrangiano,\n",
    "\n",
    "\\begin{align}\n",
    "\\mathcal{L} = \\delta_2 S \\delta'_2 + \\lambda_2 (1-\\delta_2\\delta'_2 + \\lambda_{21} (0-\\delta_1 \\delta'_2)\n",
    "\\end{align}\n",
    "\n",
    "y maximizaremos esta expresión de la forma habitual derivando respecto a $\\delta_2$ e igualando a cero:\n",
    "\n",
    "\\begin{align}\n",
    "\\frac{\\partial \\mathcal{L}}{\\partial \\delta_2}= -2 S \\delta'_2 - \\lambda_2 2 \\delta'_2 - \\lambda_{21}\\delta'_1=0\n",
    "\\end{align}\n",
    "\n",
    "Pre multiplicando por $\\delta_1$\n",
    "\n",
    "\n",
    "\\begin{align}\n",
    "     -2 \\delta_1 S \\delta'_2 - \\lambda_2 2 \\delta_1 \\delta'_2 - \\lambda_{21}\\delta_1 \\delta'_1 = 0\n",
    "\\end{align}\n",
    "\n",
    "Notemos que $\\delta_1 \\delta'_1 =1$ por lo tanto $\\lambda_{21}=0$, y que $\\delta_1 \\delta'_2 =0$. Usando estas  ecuaciones tenemos:\n",
    "\n",
    "\n",
    "\\begin{align}\n",
    " S \\delta'_2 &= \\lambda_2 \\delta'_2 \\\\\n",
    "\\delta_2  S \\delta'_2 &= \\lambda_2 \n",
    "\\end{align}\n",
    "\n",
    "\n",
    "De forma que $\\delta_2$ es un eigenvector de $S$, y puesto que queremos maximizar la varianza, deberíamos elegir el eigenvector asociado al eigenvalue mas grande, pero este ya lo utilizamos para el primer componente. Entonces $\\delta_2$  es el eigenvector asociado al segundo eigenvalue mas grande.\n",
    "\n",
    "\n",
    "\n",
    "Siguiendo esta lógica, por inducción es posible seguir calculando componentes cada uno ortogonal entre si y decrecientes en importancia. En general, para una matriz $X$ con  $n$ observaciones y $k$ variables tiene al menos el mínimo entre el número de observaciones menos 1 $(n-1)$ y el número de variables $(k)$, i.e.  $min(n-1,k)$, componentes principales distintos.\n"
   ]
  },
  {
   "cell_type": "markdown",
   "metadata": {},
   "source": [
    "#### Ejemplo cálculo PCA (cont.)\n",
    "\n",
    "Continuando con el ejemplo anterior, el segundo componente principal es aquel que esta asociado al segundo eigenvalue mayor, que es 0.4617445. \n"
   ]
  },
  {
   "cell_type": "code",
   "execution_count": 7,
   "metadata": {},
   "outputs": [
    {
     "data": {
      "text/plain": [
       "array([2.25116235, 0.28709315, 0.4617445 ])"
      ]
     },
     "execution_count": 7,
     "metadata": {},
     "output_type": "execute_result"
    }
   ],
   "source": [
    "eig_val"
   ]
  },
  {
   "cell_type": "markdown",
   "metadata": {},
   "source": [
    "El eigenvector asociado a este eigenvalue: "
   ]
  },
  {
   "cell_type": "code",
   "execution_count": 8,
   "metadata": {},
   "outputs": [
    {
     "data": {
      "text/plain": [
       "array([[-0.10616542, -0.63455599,  0.76555052]])"
      ]
     },
     "execution_count": 8,
     "metadata": {},
     "output_type": "execute_result"
    }
   ],
   "source": [
    "eig_vec[[2]]"
   ]
  },
  {
   "cell_type": "markdown",
   "metadata": {},
   "source": [
    "El segundo componente principal es:\n",
    "\n",
    "\\begin{align}\n",
    "f_2 =  - 0.10 \\times Salud - 0.63 \\times Transporte + 0.76 \\times Educación\n",
    "\\end{align}\n",
    "\n",
    "Calculando este para cada una de las ciudades tenemos entonces un índice que reduce las tres variables en una:"
   ]
  },
  {
   "cell_type": "code",
   "execution_count": 9,
   "metadata": {},
   "outputs": [
    {
     "data": {
      "text/html": [
       "<div>\n",
       "<style scoped>\n",
       "    .dataframe tbody tr th:only-of-type {\n",
       "        vertical-align: middle;\n",
       "    }\n",
       "\n",
       "    .dataframe tbody tr th {\n",
       "        vertical-align: top;\n",
       "    }\n",
       "\n",
       "    .dataframe thead th {\n",
       "        text-align: right;\n",
       "    }\n",
       "</style>\n",
       "<table border=\"1\" class=\"dataframe\">\n",
       "  <thead>\n",
       "    <tr style=\"text-align: right;\">\n",
       "      <th></th>\n",
       "      <th>CP2</th>\n",
       "    </tr>\n",
       "    <tr>\n",
       "      <th>Ciudad</th>\n",
       "      <th></th>\n",
       "    </tr>\n",
       "  </thead>\n",
       "  <tbody>\n",
       "    <tr>\n",
       "      <th>Inírida</th>\n",
       "      <td>2.122875</td>\n",
       "    </tr>\n",
       "    <tr>\n",
       "      <th>Bogotá</th>\n",
       "      <td>1.259882</td>\n",
       "    </tr>\n",
       "    <tr>\n",
       "      <th>Leticia</th>\n",
       "      <td>1.217096</td>\n",
       "    </tr>\n",
       "    <tr>\n",
       "      <th>San José del Guaviare</th>\n",
       "      <td>0.911059</td>\n",
       "    </tr>\n",
       "    <tr>\n",
       "      <th>Barrancabermeja</th>\n",
       "      <td>0.879264</td>\n",
       "    </tr>\n",
       "  </tbody>\n",
       "</table>\n",
       "</div>"
      ],
      "text/plain": [
       "                            CP2\n",
       "Ciudad                         \n",
       "Inírida                2.122875\n",
       "Bogotá                 1.259882\n",
       "Leticia                1.217096\n",
       "San José del Guaviare  0.911059\n",
       "Barrancabermeja        0.879264"
      ]
     },
     "execution_count": 9,
     "metadata": {},
     "output_type": "execute_result"
    }
   ],
   "source": [
    "f2=gasto.dot(eig_vec[[2]].T) #calculamos f2\n",
    "f2.columns = ['CP2'] #nombramos la columna del primer componente como CP2\n",
    "f2.sort_values(by='CP2', ascending=False).head()"
   ]
  },
  {
   "cell_type": "markdown",
   "metadata": {},
   "source": [
    "## Cálculo de componentes principales con `PyPI`\n",
    "\n",
    "\n",
    "Ahora, vamos a realizar el cálculo de los componentes pricipales utilizando la biblioteca [pca](https://pypi.org/project/pca/) disponible en `PyPI`. Esta biblioteca es una herramienta de análisis de componentes principales que proporciona una interfaz fácil de usar y expande las capacidades que tiene la clase  [PCA](https://scikit-learn.org/stable/modules/generated/sklearn.decomposition.PCA.html)  de la librería [scikit-learn](https://scikit-learn.org/stable/) \n",
    "\n",
    "\n",
    "\n",
    "Entonces iniciemos importando la librería:"
   ]
  },
  {
   "cell_type": "code",
   "execution_count": 10,
   "metadata": {},
   "outputs": [],
   "source": [
    "# Carguemos la librería\n",
    "from pca import pca"
   ]
  },
  {
   "cell_type": "markdown",
   "metadata": {},
   "source": [
    "Con la biblioteca `pca` importada, el siguiente paso es inicializar un objeto PCA. La biblioteca `pca` proporciona una clase `pca` que podemos utilizar para este propósito. Una vez que tengamos nuestro objeto PCA, podemos ajustarlo a nuestros datos.\n",
    "\n",
    "A diferencia de la biblioteca `sklearn`, la biblioteca `pca` combina los pasos de ajuste y transformación en una sola función, lo que simplifica el proceso. Además, esta biblioteca proporciona visualizaciones integradas que nos permiten ver fácilmente los resultados del PCA.\n",
    "\n",
    "Vamos a inicializar nuestro objeto PCA y ajustarlo a nuestros datos."
   ]
  },
  {
   "cell_type": "code",
   "execution_count": 11,
   "metadata": {},
   "outputs": [],
   "source": [
    "# Inicializamos el objeto PCA\n",
    "model = pca(n_components=2)"
   ]
  },
  {
   "cell_type": "code",
   "execution_count": 12,
   "metadata": {},
   "outputs": [
    {
     "data": {
      "text/plain": [
       "{'loadings':         Salud  Transporte  Educación\n",
       " PC1  0.601641    0.571986   0.557548\n",
       " PC2 -0.106165   -0.634556   0.765551,\n",
       " 'PC':                             PC1       PC2\n",
       " Arauca                -1.417381  0.078945\n",
       " Armenia                0.951708 -0.080257\n",
       " Barrancabermeja        0.032537  0.879264\n",
       " Barranquilla          -0.078678  0.302219\n",
       " Bogotá                 5.173817  1.259882\n",
       " Bucaramanga y A.M.     1.492981 -0.107289\n",
       " Buenaventura          -1.092105 -0.603932\n",
       " Cali                   1.638936 -0.077733\n",
       " Cartagena             -0.178175 -0.598100\n",
       " Cúcuta y A.M.         -0.904421 -0.356483\n",
       " Florencia             -1.123237 -0.489859\n",
       " Ibagué                 0.788397 -0.185930\n",
       " Inírida               -0.323544  2.122875\n",
       " Leticia               -1.508413  1.217096\n",
       " Manizales y A.M.       1.849532 -0.523291\n",
       " Medellín y A.M.        2.213589 -0.331666\n",
       " Mitú                  -2.368841  0.412880\n",
       " Mocoa                 -0.305489  0.149123\n",
       " Montería              -1.152566  0.190841\n",
       " Neiva                  0.800006 -0.079417\n",
       " Pasto                  0.927046 -0.066931\n",
       " Pereira y A.M.         0.421037  0.109204\n",
       " Popayán                0.209364 -0.453464\n",
       " Puerto Carreño        -1.499598  0.610113\n",
       " Quibdó                -2.321820 -0.431378\n",
       " Riohacha              -1.004807 -0.128801\n",
       " Rionegro               1.015765 -1.758935\n",
       " San Andrés            -0.275600 -0.177743\n",
       " San José del Guaviare -0.280594  0.911059\n",
       " Santa Marta           -1.465150 -0.127250\n",
       " Sincelejo             -0.410700 -0.221767\n",
       " Soledad               -1.601252 -0.654816\n",
       " Tumaco                -1.412889  0.187487\n",
       " Tunja                  2.408399 -0.597353\n",
       " Valledupar            -0.474544 -0.032193\n",
       " Villavicencio          1.090311 -0.695350\n",
       " Yopal                  0.919156  0.760699\n",
       " Yumbo                 -0.732774 -0.411751,\n",
       " 'explained_var': array([0.75038745, 0.90430228]),\n",
       " 'variance_ratio': array([0.75038745, 0.15391483]),\n",
       " 'model': PCA(copy=True, iterated_power='auto', n_components=2, random_state=None,\n",
       "     svd_solver='auto', tol=0.0, whiten=False),\n",
       " 'scaler': None,\n",
       " 'pcp': 0.9043022829312829,\n",
       " 'topfeat':     PC     feature   loading  type\n",
       " 0  PC1       Salud  0.601641  best\n",
       " 1  PC2   Educación  0.765551  best\n",
       " 2  PC2  Transporte -0.634556  weak,\n",
       " 'outliers':                         y_proba     p_raw    y_score  y_bool  y_bool_spe  \\\n",
       " Arauca                 0.965563  0.530740   3.164152   False       False   \n",
       " Armenia                0.965563  0.752402   1.909490   False       False   \n",
       " Barrancabermeja        0.965563  0.796423   1.668548   False       False   \n",
       " Barranquilla           0.965563  0.965563   0.577200   False       False   \n",
       " Bogotá                 0.000992  0.000026  26.413646    True        True   \n",
       " Bucaramanga y A.M.     0.965563  0.487783   3.435310   False       False   \n",
       " Buenaventura           0.965563  0.529744   3.170284   False       False   \n",
       " Cali                   0.965563  0.426046   3.854566   False       False   \n",
       " Cartagena              0.965563  0.865530   1.275431   False       False   \n",
       " Cúcuta y A.M.          0.965563  0.691670   2.240236   False       False   \n",
       " Florencia              0.965563  0.553100   3.028303   False       False   \n",
       " Ibagué                 0.965563  0.792382   1.690831   False       False   \n",
       " Inírida                0.965563  0.200897   5.976681   False        True   \n",
       " Leticia                0.965563  0.214029   5.807047   False       False   \n",
       " Manizales y A.M.       0.965563  0.255561   5.324838   False       False   \n",
       " Medellín y A.M.        0.965563  0.174523   6.349510   False       False   \n",
       " Mitú                   0.965563  0.129042   7.132657   False       False   \n",
       " Mocoa                  0.965563  0.952749   0.688423   False       False   \n",
       " Montería               0.965563  0.629048   2.587450   False       False   \n",
       " Neiva                  0.965563  0.816862   1.554966   False       False   \n",
       " Pasto                  0.965563  0.766850   1.830762   False       False   \n",
       " Pereira y A.M.         0.965563  0.934255   0.830921   False       False   \n",
       " Popayán                0.965563  0.902856   1.045269   False       False   \n",
       " Puerto Carreño         0.965563  0.362210   4.337843   False       False   \n",
       " Quibdó                 0.965563  0.137527   6.969152   False       False   \n",
       " Riohacha               0.965563  0.715185   2.111909   False       False   \n",
       " Rionegro               0.965563  0.192025   6.096936   False       False   \n",
       " San Andrés             0.965563  0.953462   0.682558   False       False   \n",
       " San José del Guaviare  0.965563  0.712560   2.126206   False       False   \n",
       " Santa Marta            0.965563  0.496341   3.380103   False       False   \n",
       " Sincelejo              0.965563  0.911778   0.986885   False       False   \n",
       " Soledad                0.965563  0.313931   4.749932   False       False   \n",
       " Tumaco                 0.965563  0.506449   3.315697   False       False   \n",
       " Tunja                  0.965563  0.105144   7.653104   False       False   \n",
       " Valledupar             0.965563  0.936085   0.817510   False       False   \n",
       " Villavicencio          0.965563  0.500290   3.354844   False       False   \n",
       " Yopal                  0.965563  0.545968   3.071285   False       False   \n",
       " Yumbo                  0.965563  0.744915   1.950218   False       False   \n",
       " \n",
       "                        y_score_spe  \n",
       " Arauca                    1.419578  \n",
       " Armenia                   0.955086  \n",
       " Barrancabermeja           0.879866  \n",
       " Barranquilla              0.312293  \n",
       " Bogotá                    5.325005  \n",
       " Bucaramanga y A.M.        1.496831  \n",
       " Buenaventura              1.247969  \n",
       " Cali                      1.640778  \n",
       " Cartagena                 0.624075  \n",
       " Cúcuta y A.M.             0.972141  \n",
       " Florencia                 1.225407  \n",
       " Ibagué                    0.810025  \n",
       " Inírida                   2.147389  \n",
       " Leticia                   1.938204  \n",
       " Manizales y A.M.          1.922135  \n",
       " Medellín y A.M.           2.238298  \n",
       " Mitú                      2.404554  \n",
       " Mocoa                     0.339943  \n",
       " Montería                  1.168259  \n",
       " Neiva                     0.803938  \n",
       " Pasto                     0.929459  \n",
       " Pereira y A.M.            0.434969  \n",
       " Popayán                   0.499463  \n",
       " Puerto Carreño            1.618961  \n",
       " Quibdó                    2.361553  \n",
       " Riohacha                  1.013028  \n",
       " Rionegro                  2.031165  \n",
       " San Andrés                0.327945  \n",
       " San José del Guaviare     0.953290  \n",
       " Santa Marta               1.470666  \n",
       " Sincelejo                 0.466750  \n",
       " Soledad                   1.729969  \n",
       " Tumaco                    1.425274  \n",
       " Tunja                     2.481374  \n",
       " Valledupar                0.475635  \n",
       " Villavicencio             1.293170  \n",
       " Yopal                     1.193109  \n",
       " Yumbo                     0.840534  ,\n",
       " 'outliers_params': {'paramT2': (1.7529837230923523e-17, 1.3207572816496365),\n",
       "  'paramSPE': (array([-8.76491862e-18,  8.76491862e-18]),\n",
       "   array([[ 2.25116235e+00, -1.81634544e-16],\n",
       "          [-1.81634544e-16,  4.61744498e-01]]))}}"
      ]
     },
     "execution_count": 12,
     "metadata": {},
     "output_type": "execute_result"
    }
   ],
   "source": [
    "# Ajustamos el PCA a nuestros datos \n",
    "gasto_pca = model.fit_transform(gasto, verbose=False)\n",
    "gasto_pca"
   ]
  },
  {
   "cell_type": "markdown",
   "metadata": {},
   "source": [
    "La función nos retorna entonces los *loadings* y los componentes principales. Notemos que son iguales a los encontrados anteriormente.\n",
    "\n",
    "La biblioteca `pca` proporciona varias funcionalidades extras. Entre ellas la función `biplot` que nos permite visualizar fácilmente los componentes principales y las cargas originales en un solo gráfico. \n",
    "\n",
    "Vamos a crear un biplot de nuestros resultados de PCA."
   ]
  },
  {
   "cell_type": "code",
   "execution_count": 13,
   "metadata": {},
   "outputs": [
    {
     "name": "stdout",
     "output_type": "stream",
     "text": [
      "[pca] >Plot PC1 vs PC2 with loadings.\n"
     ]
    },
    {
     "data": {
      "image/png": "[encoded data removed]",
      "text/plain": [
       "<Figure size 1000x1000 with 1 Axes>"
      ]
     },
     "metadata": {
      "needs_background": "light"
     },
     "output_type": "display_data"
    }
   ],
   "source": [
    "import matplotlib \n",
    "\n",
    "# Creamos el biplot\n",
    "fig, ax = model.biplot(n_feat=3, legend=False, figsize=(10,10))"
   ]
  },
  {
   "cell_type": "markdown",
   "metadata": {},
   "source": [
    "El biplot anterior muestra los dos primeros componentes principales (PC1 y PC2) en el eje x e y, respectivamente. Las flechas representan los *loadings*  de las variables en estos componentes. La dirección y longitud de las flechas indican cómo cada variable contribuye a los componentes principales.\n",
    "\n",
    "En este biplot, podemos observar cómo las diferentes variables (representadas por flechas) están relacionadas entre sí y cómo están distribuidas en relación con los dos primeros componentes principales. Las observaciones (puntos) representan las proyecciones de los datos originales en el espacio de los componentes principales.\n",
    "\n",
    "El biplot es una herramienta poderosa para la interpretación de un PCA, ya que combina información sobre las observaciones y las variables en un solo gráfico. Nos permite entender la estructura subyacente de los datos y cómo las variables contribuyen a la variabilidad capturada por los componentes principales.\n",
    "\n",
    "Finalmente, hay que mencionar Cabe mencionar que la interpretación de un biplot puede ser un poco compleja, especialmente cuando se trata de conjuntos de datos de alta dimensionalidad. Sin embargo, sigue siendo una herramienta útil para la exploración inicial de datos y la visualización de la estructura subyacente en los datos."
   ]
  },
  {
   "cell_type": "markdown",
   "metadata": {},
   "source": [
    "# Referencias\n",
    "\n",
    "\n",
    "-   Ahumada, H. A., Gabrielli, M. F., Herrera Gomez, M. H., & Sosa\n",
    "    Escudero, W. (2018). Una nueva econometría: Automatización, big\n",
    "    data, econometría espacial y estructural.\n",
    "\n",
    "-   DANE (29 de Septiembre de 2020). Encuesta nacional de presupuestos\n",
    "    de los hogares (ENPH). Anexos: 32 ciudades y 6 ciudades intermedias.\n",
    "    <https://www.dane.gov.co/files/investigaciones/boletines/enph/ciudades-enph-2017.xls>\n",
    "\n",
    "-   Deisenroth, M. P., Faisal, A. A., & Ong, C. S. (2020). Mathematics\n",
    "    for machine learning. Cambridge University Press.\n",
    "\n",
    "-   James, G., Witten, D., Hastie, T., & Tibshirani, R. (2013). An\n",
    "    introduction to statistical learning (Vol. 112, p. 18). New York:\n",
    "    springer.\n",
    "\n",
    "-   Murphy, K. P. (2012). Machine learning: a probabilistic perspective.\n",
    "    MIT press.\n",
    "\n",
    "-   Peña, D. (2002). Análisis de datos multivariantes (Vol. 24). Madrid:\n",
    "    McGraw-hill.\n"
   ]
  },
  {
   "cell_type": "markdown",
   "metadata": {},
   "source": [
    "# Información de Sesión"
   ]
  },
  {
   "cell_type": "code",
   "execution_count": 14,
   "metadata": {},
   "outputs": [
    {
     "name": "stdout",
     "output_type": "stream",
     "text": [
      "-----\n",
      "matplotlib          3.5.3\n",
      "numpy               1.18.4\n",
      "pandas              1.0.3\n",
      "pca                 2.0.3\n",
      "session_info        1.0.0\n",
      "-----\n",
      "IPython             7.14.0\n",
      "jupyter_client      6.1.3\n",
      "jupyter_core        4.6.3\n",
      "jupyterlab          2.1.1\n",
      "notebook            6.0.3\n",
      "-----\n",
      "Python 3.7.6 | packaged by conda-forge | (default, Mar 23 2020, 23:03:20) [GCC 7.3.0]\n",
      "Linux-5.15.0-1017-aws-x86_64-with-debian-buster-sid\n",
      "-----\n",
      "Session information updated at 2023-08-03 19:43\n"
     ]
    }
   ],
   "source": [
    "import session_info\n",
    "\n",
    "\n",
    "session_info.show(html=False)"
   ]
  }
 ],
 "metadata": {
  "kernelspec": {
   "display_name": "Python 3",
   "language": "python",
   "name": "python3"
  },
  "language_info": {
   "codemirror_mode": {
    "name": "ipython",
    "version": 3
   },
   "file_extension": ".py",
   "mimetype": "text/x-python",
   "name": "python",
   "nbconvert_exporter": "python",
   "pygments_lexer": "ipython3",
   "version": "3.7.6"
  },
  "toc": {
   "base_numbering": 1,
   "nav_menu": {},
   "number_sections": true,
   "sideBar": true,
   "skip_h1_title": false,
   "title_cell": "Table of Contents",
   "title_sidebar": "Contents",
   "toc_cell": false,
   "toc_position": {},
   "toc_section_display": true,
   "toc_window_display": true
  }
 },
 "nbformat": 4,
 "nbformat_minor": 4
}
