{
 "cells": [
  {
   "cell_type": "markdown",
   "id": "b6297364",
   "metadata": {},
   "source": [
    "# Visualización intermedia"
   ]
  },
  {
   "cell_type": "markdown",
   "id": "43ca7c58",
   "metadata": {},
   "source": [
    "Cuando abordamos un proyecto de analítica de datos nos enfrentamos al siguiente reto: ¿Cómo generar valor a partir de grandes volúmenes de información recolectada? Visualizar la información a través de mapas o gráficos simplifica este reto, ya que facilita la identificación de tendencias, patrones y valores atípicos. Usualmente utilizamos las visualizaciones para decidir cómo orientar nuestro análisis."
   ]
  },
  {
   "cell_type": "markdown",
   "id": "3c577a59",
   "metadata": {},
   "source": [
    " \n",
    "En este tutorial establecemos nociones fundamentales sobre el uso de la librería `seaborn` visualización de datos."
   ]
  },
  {
   "cell_type": "markdown",
   "id": "0c2918de",
   "metadata": {},
   "source": [
    "## Requisitos"
   ]
  },
  {
   "cell_type": "markdown",
   "id": "b52c7acc",
   "metadata": {},
   "source": [
    "Para desarrollar este tutorial necesitarás:\n",
    "\n",
    "* Utilizar estructuras de datos.\n",
    "* Implementar estructuras de control.\n",
    "* Generar visualizaciones básicas con `matplotlib`.\n",
    "* Utilizar la librería `pandas`. "
   ]
  },
  {
   "cell_type": "markdown",
   "id": "81dd5280",
   "metadata": {},
   "source": [
    "## Objetivos"
   ]
  },
  {
   "cell_type": "markdown",
   "id": "a576d97c",
   "metadata": {},
   "source": [
    "Al final de este tutorial podrás:\n",
    "\n",
    "**1.** Crear diferentes tipos de visualizaciones en `seaborn`.<br />\n",
    "**2.** Personalizar visualizaciones de manera amigable utilizando `seaborn` y `matplotlib.pyplot`. "
   ]
  },
  {
   "cell_type": "markdown",
   "id": "95b56890",
   "metadata": {},
   "source": [
    "## 1. Librería `seaborn`"
   ]
  },
  {
   "cell_type": "markdown",
   "id": "d305221b",
   "metadata": {},
   "source": [
    "`seaborn` es una librería especializada en visualizaciones estadísticas para el lenguaje Python. Te recomendamos importar la libería `seaborn` utilizando el nombre `sns` (su alias más frecuentemente usado), como se muestra a continuación."
   ]
  },
  {
   "cell_type": "code",
   "execution_count": 12,
   "id": "044c6c2b",
   "metadata": {},
   "outputs": [],
   "source": [
    "import pandas as pd\n",
    "import matplotlib.pyplot as plt\n",
    "import seaborn as sns"
   ]
  },
  {
   "cell_type": "code",
   "execution_count": 13,
   "id": "c8f24394",
   "metadata": {},
   "outputs": [
    {
     "data": {
      "text/html": [
       "<div>\n",
       "<style scoped>\n",
       "    .dataframe tbody tr th:only-of-type {\n",
       "        vertical-align: middle;\n",
       "    }\n",
       "\n",
       "    .dataframe tbody tr th {\n",
       "        vertical-align: top;\n",
       "    }\n",
       "\n",
       "    .dataframe thead th {\n",
       "        text-align: right;\n",
       "    }\n",
       "</style>\n",
       "<table border=\"1\" class=\"dataframe\">\n",
       "  <thead>\n",
       "    <tr style=\"text-align: right;\">\n",
       "      <th></th>\n",
       "      <th>species</th>\n",
       "      <th>island</th>\n",
       "      <th>bill_length_mm</th>\n",
       "      <th>bill_depth_mm</th>\n",
       "      <th>flipper_length_mm</th>\n",
       "      <th>body_mass_g</th>\n",
       "      <th>sex</th>\n",
       "    </tr>\n",
       "  </thead>\n",
       "  <tbody>\n",
       "    <tr>\n",
       "      <th>0</th>\n",
       "      <td>Adelie</td>\n",
       "      <td>Torgersen</td>\n",
       "      <td>39.1</td>\n",
       "      <td>18.7</td>\n",
       "      <td>181.0</td>\n",
       "      <td>3750.0</td>\n",
       "      <td>Male</td>\n",
       "    </tr>\n",
       "    <tr>\n",
       "      <th>1</th>\n",
       "      <td>Adelie</td>\n",
       "      <td>Torgersen</td>\n",
       "      <td>39.5</td>\n",
       "      <td>17.4</td>\n",
       "      <td>186.0</td>\n",
       "      <td>3800.0</td>\n",
       "      <td>Female</td>\n",
       "    </tr>\n",
       "    <tr>\n",
       "      <th>2</th>\n",
       "      <td>Adelie</td>\n",
       "      <td>Torgersen</td>\n",
       "      <td>40.3</td>\n",
       "      <td>18.0</td>\n",
       "      <td>195.0</td>\n",
       "      <td>3250.0</td>\n",
       "      <td>Female</td>\n",
       "    </tr>\n",
       "    <tr>\n",
       "      <th>3</th>\n",
       "      <td>Adelie</td>\n",
       "      <td>Torgersen</td>\n",
       "      <td>NaN</td>\n",
       "      <td>NaN</td>\n",
       "      <td>NaN</td>\n",
       "      <td>NaN</td>\n",
       "      <td>NaN</td>\n",
       "    </tr>\n",
       "    <tr>\n",
       "      <th>4</th>\n",
       "      <td>Adelie</td>\n",
       "      <td>Torgersen</td>\n",
       "      <td>36.7</td>\n",
       "      <td>19.3</td>\n",
       "      <td>193.0</td>\n",
       "      <td>3450.0</td>\n",
       "      <td>Female</td>\n",
       "    </tr>\n",
       "    <tr>\n",
       "      <th>...</th>\n",
       "      <td>...</td>\n",
       "      <td>...</td>\n",
       "      <td>...</td>\n",
       "      <td>...</td>\n",
       "      <td>...</td>\n",
       "      <td>...</td>\n",
       "      <td>...</td>\n",
       "    </tr>\n",
       "    <tr>\n",
       "      <th>339</th>\n",
       "      <td>Gentoo</td>\n",
       "      <td>Biscoe</td>\n",
       "      <td>NaN</td>\n",
       "      <td>NaN</td>\n",
       "      <td>NaN</td>\n",
       "      <td>NaN</td>\n",
       "      <td>NaN</td>\n",
       "    </tr>\n",
       "    <tr>\n",
       "      <th>340</th>\n",
       "      <td>Gentoo</td>\n",
       "      <td>Biscoe</td>\n",
       "      <td>46.8</td>\n",
       "      <td>14.3</td>\n",
       "      <td>215.0</td>\n",
       "      <td>4850.0</td>\n",
       "      <td>Female</td>\n",
       "    </tr>\n",
       "    <tr>\n",
       "      <th>341</th>\n",
       "      <td>Gentoo</td>\n",
       "      <td>Biscoe</td>\n",
       "      <td>50.4</td>\n",
       "      <td>15.7</td>\n",
       "      <td>222.0</td>\n",
       "      <td>5750.0</td>\n",
       "      <td>Male</td>\n",
       "    </tr>\n",
       "    <tr>\n",
       "      <th>342</th>\n",
       "      <td>Gentoo</td>\n",
       "      <td>Biscoe</td>\n",
       "      <td>45.2</td>\n",
       "      <td>14.8</td>\n",
       "      <td>212.0</td>\n",
       "      <td>5200.0</td>\n",
       "      <td>Female</td>\n",
       "    </tr>\n",
       "    <tr>\n",
       "      <th>343</th>\n",
       "      <td>Gentoo</td>\n",
       "      <td>Biscoe</td>\n",
       "      <td>49.9</td>\n",
       "      <td>16.1</td>\n",
       "      <td>213.0</td>\n",
       "      <td>5400.0</td>\n",
       "      <td>Male</td>\n",
       "    </tr>\n",
       "  </tbody>\n",
       "</table>\n",
       "<p>344 rows × 7 columns</p>\n",
       "</div>"
      ],
      "text/plain": [
       "    species     island  bill_length_mm  bill_depth_mm  flipper_length_mm  \\\n",
       "0    Adelie  Torgersen            39.1           18.7              181.0   \n",
       "1    Adelie  Torgersen            39.5           17.4              186.0   \n",
       "2    Adelie  Torgersen            40.3           18.0              195.0   \n",
       "3    Adelie  Torgersen             NaN            NaN                NaN   \n",
       "4    Adelie  Torgersen            36.7           19.3              193.0   \n",
       "..      ...        ...             ...            ...                ...   \n",
       "339  Gentoo     Biscoe             NaN            NaN                NaN   \n",
       "340  Gentoo     Biscoe            46.8           14.3              215.0   \n",
       "341  Gentoo     Biscoe            50.4           15.7              222.0   \n",
       "342  Gentoo     Biscoe            45.2           14.8              212.0   \n",
       "343  Gentoo     Biscoe            49.9           16.1              213.0   \n",
       "\n",
       "     body_mass_g     sex  \n",
       "0         3750.0    Male  \n",
       "1         3800.0  Female  \n",
       "2         3250.0  Female  \n",
       "3            NaN     NaN  \n",
       "4         3450.0  Female  \n",
       "..           ...     ...  \n",
       "339          NaN     NaN  \n",
       "340       4850.0  Female  \n",
       "341       5750.0    Male  \n",
       "342       5200.0  Female  \n",
       "343       5400.0    Male  \n",
       "\n",
       "[344 rows x 7 columns]"
      ]
     },
     "execution_count": 13,
     "metadata": {},
     "output_type": "execute_result"
    }
   ],
   "source": [
    "pinguinos = sns.load_dataset(\"penguins\")\n",
    "pinguinos"
   ]
  },
  {
   "cell_type": "markdown",
   "id": "208ac77a",
   "metadata": {},
   "source": [
    "### 1.1. Método `displot`"
   ]
  },
  {
   "cell_type": "markdown",
   "id": "1abfed3e",
   "metadata": {},
   "source": [
    "Este método nos permite crear un histograma. A continuación, crearemos un histograma a partir de información contenida en la base de datos de pingüinos de la librería `seaborn`."
   ]
  },
  {
   "cell_type": "code",
   "execution_count": 14,
   "id": "2fe15b3a",
   "metadata": {
    "scrolled": false
   },
   "outputs": [
    {
     "data": {
      "image/png": "[encoded data removed]",
      "text/plain": [
       "<Figure size 617x500 with 1 Axes>"
      ]
     },
     "metadata": {},
     "output_type": "display_data"
    }
   ],
   "source": [
    "pinguinos = sns.load_dataset(\"penguins\")  # Cargamos la base de datos de pingüinos de la librería seaborn.\n",
    "\n",
    "sns.displot(data = pinguinos,             # Utilizamos la base de datos de pingüinos.\n",
    "            x = \"flipper_length_mm\",      # Establecemos la varible a la que le queremos sacar el histograma.\n",
    "            hue = \"species\",              # Clasificamos los valores de acuerdo a una categoría. En este caso, especies.\n",
    "            multiple = \"stack\");          # Apilamos las barras."
   ]
  },
  {
   "cell_type": "markdown",
   "id": "3facf35d",
   "metadata": {},
   "source": [
    "### 1.2. Método `boxplot`"
   ]
  },
  {
   "cell_type": "markdown",
   "id": "bd2aa624",
   "metadata": {},
   "source": [
    "Este método nos permite crear un diagrama de caja. A continuación, crearemos un diagrama de caja a partir de información contenida en la base de datos de pingüinos de la librería `seaborn`."
   ]
  },
  {
   "cell_type": "code",
   "execution_count": 15,
   "id": "73112025",
   "metadata": {},
   "outputs": [
    {
     "data": {
      "image/png": "[encoded data removed]",
      "text/plain": [
       "<Figure size 640x480 with 1 Axes>"
      ]
     },
     "metadata": {},
     "output_type": "display_data"
    }
   ],
   "source": [
    "sns.boxplot(y = \"flipper_length_mm\",  # Establecemos la varible a la que le queremos sacar el diagrama de caja.\n",
    "            x = \"species\",            # Clasificamos los valores de acuerdo a una categoría. En este caso, especies.\n",
    "            data = pinguinos);        # Utilizamos la base de datos de pingüinos."
   ]
  },
  {
   "cell_type": "markdown",
   "id": "73a568bd",
   "metadata": {},
   "source": [
    "### 1.3. Método `heatmap`"
   ]
  },
  {
   "cell_type": "markdown",
   "id": "42c0fcd8",
   "metadata": {},
   "source": [
    "Este método nos permite crear un mapa de calor. A continuación, crearemos un mapa de calor a partir de información contenida en la base de datos de vuelos de la librería `seaborn`."
   ]
  },
  {
   "cell_type": "code",
   "execution_count": 19,
   "id": "72adbb8c",
   "metadata": {},
   "outputs": [
    {
     "ename": "TypeError",
     "evalue": "DataFrame.pivot() takes 1 positional argument but 4 were given",
     "output_type": "error",
     "traceback": [
      "\u001b[1;31m---------------------------------------------------------------------------\u001b[0m",
      "\u001b[1;31mTypeError\u001b[0m                                 Traceback (most recent call last)",
      "Cell \u001b[1;32mIn[19], line 2\u001b[0m\n\u001b[0;32m      1\u001b[0m vuelos \u001b[38;5;241m=\u001b[39m sns\u001b[38;5;241m.\u001b[39mload_dataset(\u001b[38;5;124m\"\u001b[39m\u001b[38;5;124mflights\u001b[39m\u001b[38;5;124m\"\u001b[39m)                  \u001b[38;5;66;03m# Cargamos la base de datos de vuelos de la librería seaborn.\u001b[39;00m\n\u001b[1;32m----> 2\u001b[0m vuelos \u001b[38;5;241m=\u001b[39m \u001b[43mvuelos\u001b[49m\u001b[38;5;241;43m.\u001b[39;49m\u001b[43mpivot\u001b[49m\u001b[43m(\u001b[49m\u001b[38;5;124;43m\"\u001b[39;49m\u001b[38;5;124;43mmonth\u001b[39;49m\u001b[38;5;124;43m\"\u001b[39;49m\u001b[43m,\u001b[49m\u001b[43m \u001b[49m\u001b[38;5;124;43m\"\u001b[39;49m\u001b[38;5;124;43myear\u001b[39;49m\u001b[38;5;124;43m\"\u001b[39;49m\u001b[43m,\u001b[49m\u001b[43m \u001b[49m\u001b[38;5;124;43m\"\u001b[39;49m\u001b[38;5;124;43mpassengers\u001b[39;49m\u001b[38;5;124;43m\"\u001b[39;49m\u001b[43m)\u001b[49m  \u001b[38;5;66;03m# Cambiamos el tamaño de la base de datos para construir un tabla con el mes, el año y los pasajeros\u001b[39;00m\n\u001b[0;32m      4\u001b[0m mapa_calor \u001b[38;5;241m=\u001b[39m sns\u001b[38;5;241m.\u001b[39mheatmap(vuelos,                      \u001b[38;5;66;03m# Utilizamos la base de datos de vuelos.\u001b[39;00m\n\u001b[0;32m      5\u001b[0m                          annot \u001b[38;5;241m=\u001b[39m \u001b[38;5;28;01mTrue\u001b[39;00m,                \u001b[38;5;66;03m# Mostramos las anotaciones.\u001b[39;00m\n\u001b[0;32m      6\u001b[0m                          fmt \u001b[38;5;241m=\u001b[39m \u001b[38;5;124m\"\u001b[39m\u001b[38;5;124md\u001b[39m\u001b[38;5;124m\"\u001b[39m                    \u001b[38;5;66;03m# Ajustamos el formato de los números.\u001b[39;00m\n\u001b[0;32m      7\u001b[0m                         )                                  \n",
      "\u001b[1;31mTypeError\u001b[0m: DataFrame.pivot() takes 1 positional argument but 4 were given"
     ]
    }
   ],
   "source": [
    "vuelos = sns.load_dataset(\"flights\")                  # Cargamos la base de datos de vuelos de la librería seaborn.\n",
    "vuelos = vuelos.pivot(\"month\", \"year\", \"passengers\")  # Cambiamos el tamaño de la base de datos para construir un tabla con el mes, el año y los pasajeros\n",
    "\n",
    "mapa_calor = sns.heatmap(vuelos,                      # Utilizamos la base de datos de vuelos.\n",
    "                         annot = True,                # Mostramos las anotaciones.\n",
    "                         fmt = \"d\"                    # Ajustamos el formato de los números.\n",
    "                        )                                  "
   ]
  },
  {
   "cell_type": "markdown",
   "id": "9a3cf530",
   "metadata": {},
   "source": [
    "### 1.4. Metódo `countplot`"
   ]
  },
  {
   "cell_type": "markdown",
   "id": "2dd7020f",
   "metadata": {},
   "source": [
    "Este método nos permite crear un gráfico de barras para variables categóricas sin realizar un procesamiento previo. A continuación, crearemos un gráfico de barras para visualizar el uso del medio de comunicación de chat, por parte de un grupo de personas al momento de informarse sobre noticias generales o noticias acerca del COVID-19."
   ]
  },
  {
   "cell_type": "markdown",
   "id": "ddbe1abe",
   "metadata": {},
   "source": [
    "Para este ejemplo almacenamos los datos en el `DataFrame` `df_covid_19`."
   ]
  },
  {
   "cell_type": "code",
   "execution_count": 17,
   "id": "34ea5dd3",
   "metadata": {
    "scrolled": true,
    "tags": [
     "output_scroll"
    ]
   },
   "outputs": [
    {
     "data": {
      "text/html": [
       "<div>\n",
       "<style scoped>\n",
       "    .dataframe tbody tr th:only-of-type {\n",
       "        vertical-align: middle;\n",
       "    }\n",
       "\n",
       "    .dataframe tbody tr th {\n",
       "        vertical-align: top;\n",
       "    }\n",
       "\n",
       "    .dataframe thead tr th {\n",
       "        text-align: left;\n",
       "    }\n",
       "\n",
       "    .dataframe thead tr:last-of-type th {\n",
       "        text-align: right;\n",
       "    }\n",
       "</style>\n",
       "<table border=\"1\" class=\"dataframe\">\n",
       "  <thead>\n",
       "    <tr>\n",
       "      <th></th>\n",
       "      <th colspan=\"5\" halign=\"left\">noti</th>\n",
       "      <th colspan=\"5\" halign=\"left\">covid</th>\n",
       "    </tr>\n",
       "    <tr>\n",
       "      <th></th>\n",
       "      <th>redessociales</th>\n",
       "      <th>chat</th>\n",
       "      <th>periodicos</th>\n",
       "      <th>tv</th>\n",
       "      <th>radio</th>\n",
       "      <th>redessociales</th>\n",
       "      <th>chat</th>\n",
       "      <th>periodicos</th>\n",
       "      <th>tv</th>\n",
       "      <th>radio</th>\n",
       "    </tr>\n",
       "    <tr>\n",
       "      <th>id</th>\n",
       "      <th></th>\n",
       "      <th></th>\n",
       "      <th></th>\n",
       "      <th></th>\n",
       "      <th></th>\n",
       "      <th></th>\n",
       "      <th></th>\n",
       "      <th></th>\n",
       "      <th></th>\n",
       "      <th></th>\n",
       "    </tr>\n",
       "  </thead>\n",
       "  <tbody>\n",
       "    <tr>\n",
       "      <th>1000060.0</th>\n",
       "      <td>Siempre</td>\n",
       "      <td>Siempre</td>\n",
       "      <td>Casi siempre</td>\n",
       "      <td>A veces</td>\n",
       "      <td>Nunca</td>\n",
       "      <td>Siempre</td>\n",
       "      <td>Siempre</td>\n",
       "      <td>Siempre</td>\n",
       "      <td>A veces</td>\n",
       "      <td>Nunca</td>\n",
       "    </tr>\n",
       "    <tr>\n",
       "      <th>1000734.0</th>\n",
       "      <td>Casi siempre</td>\n",
       "      <td>A veces</td>\n",
       "      <td>A veces</td>\n",
       "      <td>Casi siempre</td>\n",
       "      <td>Casi siempre</td>\n",
       "      <td>Casi siempre</td>\n",
       "      <td>Casi siempre</td>\n",
       "      <td>A veces</td>\n",
       "      <td>Casi siempre</td>\n",
       "      <td>Casi siempre</td>\n",
       "    </tr>\n",
       "    <tr>\n",
       "      <th>1000120.0</th>\n",
       "      <td>Nunca</td>\n",
       "      <td>A veces</td>\n",
       "      <td>A veces</td>\n",
       "      <td>Siempre</td>\n",
       "      <td>Siempre</td>\n",
       "      <td>Nunca</td>\n",
       "      <td>A veces</td>\n",
       "      <td>A veces</td>\n",
       "      <td>Siempre</td>\n",
       "      <td>Siempre</td>\n",
       "    </tr>\n",
       "    <tr>\n",
       "      <th>1000235.0</th>\n",
       "      <td>Siempre</td>\n",
       "      <td>Siempre</td>\n",
       "      <td>A veces</td>\n",
       "      <td>A veces</td>\n",
       "      <td>A veces</td>\n",
       "      <td>Siempre</td>\n",
       "      <td>Siempre</td>\n",
       "      <td>Nunca</td>\n",
       "      <td>A veces</td>\n",
       "      <td>Nunca</td>\n",
       "    </tr>\n",
       "    <tr>\n",
       "      <th>1000828.0</th>\n",
       "      <td>Casi siempre</td>\n",
       "      <td>A veces</td>\n",
       "      <td>A veces</td>\n",
       "      <td>A veces</td>\n",
       "      <td>A veces</td>\n",
       "      <td>Casi siempre</td>\n",
       "      <td>Casi siempre</td>\n",
       "      <td>A veces</td>\n",
       "      <td>A veces</td>\n",
       "      <td>Nunca</td>\n",
       "    </tr>\n",
       "    <tr>\n",
       "      <th>...</th>\n",
       "      <td>...</td>\n",
       "      <td>...</td>\n",
       "      <td>...</td>\n",
       "      <td>...</td>\n",
       "      <td>...</td>\n",
       "      <td>...</td>\n",
       "      <td>...</td>\n",
       "      <td>...</td>\n",
       "      <td>...</td>\n",
       "      <td>...</td>\n",
       "    </tr>\n",
       "    <tr>\n",
       "      <th>17001614.0</th>\n",
       "      <td>A veces</td>\n",
       "      <td>A veces</td>\n",
       "      <td>Casi siempre</td>\n",
       "      <td>Siempre</td>\n",
       "      <td>Casi siempre</td>\n",
       "      <td>Nunca</td>\n",
       "      <td>A veces</td>\n",
       "      <td>Casi siempre</td>\n",
       "      <td>Siempre</td>\n",
       "      <td>Casi siempre</td>\n",
       "    </tr>\n",
       "    <tr>\n",
       "      <th>17017448.0</th>\n",
       "      <td>Siempre</td>\n",
       "      <td>Siempre</td>\n",
       "      <td>A veces</td>\n",
       "      <td>A veces</td>\n",
       "      <td>Nunca</td>\n",
       "      <td>Siempre</td>\n",
       "      <td>Siempre</td>\n",
       "      <td>A veces</td>\n",
       "      <td>A veces</td>\n",
       "      <td>Nunca</td>\n",
       "    </tr>\n",
       "    <tr>\n",
       "      <th>17013032.0</th>\n",
       "      <td>Siempre</td>\n",
       "      <td>Siempre</td>\n",
       "      <td>Siempre</td>\n",
       "      <td>Siempre</td>\n",
       "      <td>Siempre</td>\n",
       "      <td>Siempre</td>\n",
       "      <td>Casi siempre</td>\n",
       "      <td>Siempre</td>\n",
       "      <td>Siempre</td>\n",
       "      <td>Siempre</td>\n",
       "    </tr>\n",
       "    <tr>\n",
       "      <th>17014760.0</th>\n",
       "      <td>Siempre</td>\n",
       "      <td>Siempre</td>\n",
       "      <td>Siempre</td>\n",
       "      <td>Casi siempre</td>\n",
       "      <td>Casi siempre</td>\n",
       "      <td>Siempre</td>\n",
       "      <td>Siempre</td>\n",
       "      <td>Siempre</td>\n",
       "      <td>Casi siempre</td>\n",
       "      <td>Casi siempre</td>\n",
       "    </tr>\n",
       "    <tr>\n",
       "      <th>17003990.0</th>\n",
       "      <td>Casi siempre</td>\n",
       "      <td>Nunca</td>\n",
       "      <td>Nunca</td>\n",
       "      <td>Casi siempre</td>\n",
       "      <td>Casi siempre</td>\n",
       "      <td>Casi siempre</td>\n",
       "      <td>Nunca</td>\n",
       "      <td>A veces</td>\n",
       "      <td>Casi siempre</td>\n",
       "      <td>Casi siempre</td>\n",
       "    </tr>\n",
       "  </tbody>\n",
       "</table>\n",
       "<p>216092 rows × 10 columns</p>\n",
       "</div>"
      ],
      "text/plain": [
       "                    noti                                                     \\\n",
       "           redessociales     chat    periodicos            tv         radio   \n",
       "id                                                                            \n",
       "1000060.0        Siempre  Siempre  Casi siempre       A veces         Nunca   \n",
       "1000734.0   Casi siempre  A veces       A veces  Casi siempre  Casi siempre   \n",
       "1000120.0          Nunca  A veces       A veces       Siempre       Siempre   \n",
       "1000235.0        Siempre  Siempre       A veces       A veces       A veces   \n",
       "1000828.0   Casi siempre  A veces       A veces       A veces       A veces   \n",
       "...                  ...      ...           ...           ...           ...   \n",
       "17001614.0       A veces  A veces  Casi siempre       Siempre  Casi siempre   \n",
       "17017448.0       Siempre  Siempre       A veces       A veces         Nunca   \n",
       "17013032.0       Siempre  Siempre       Siempre       Siempre       Siempre   \n",
       "17014760.0       Siempre  Siempre       Siempre  Casi siempre  Casi siempre   \n",
       "17003990.0  Casi siempre    Nunca         Nunca  Casi siempre  Casi siempre   \n",
       "\n",
       "                   covid                                            \\\n",
       "           redessociales          chat    periodicos            tv   \n",
       "id                                                                   \n",
       "1000060.0        Siempre       Siempre       Siempre       A veces   \n",
       "1000734.0   Casi siempre  Casi siempre       A veces  Casi siempre   \n",
       "1000120.0          Nunca       A veces       A veces       Siempre   \n",
       "1000235.0        Siempre       Siempre         Nunca       A veces   \n",
       "1000828.0   Casi siempre  Casi siempre       A veces       A veces   \n",
       "...                  ...           ...           ...           ...   \n",
       "17001614.0         Nunca       A veces  Casi siempre       Siempre   \n",
       "17017448.0       Siempre       Siempre       A veces       A veces   \n",
       "17013032.0       Siempre  Casi siempre       Siempre       Siempre   \n",
       "17014760.0       Siempre       Siempre       Siempre  Casi siempre   \n",
       "17003990.0  Casi siempre         Nunca       A veces  Casi siempre   \n",
       "\n",
       "                          \n",
       "                   radio  \n",
       "id                        \n",
       "1000060.0          Nunca  \n",
       "1000734.0   Casi siempre  \n",
       "1000120.0        Siempre  \n",
       "1000235.0          Nunca  \n",
       "1000828.0          Nunca  \n",
       "...                  ...  \n",
       "17001614.0  Casi siempre  \n",
       "17017448.0         Nunca  \n",
       "17013032.0       Siempre  \n",
       "17014760.0  Casi siempre  \n",
       "17003990.0  Casi siempre  \n",
       "\n",
       "[216092 rows x 10 columns]"
      ]
     },
     "execution_count": 17,
     "metadata": {},
     "output_type": "execute_result"
    }
   ],
   "source": [
    "df_covid_19 = pd.read_csv(\"./Archivos/BID-Cornell.csv\", index_col = 0) \n",
    "df_covid_19.columns = df_covid_19.columns.str[7:]\n",
    "df_covid_19.columns = df_covid_19.columns.str.split(\"_\", expand = True)\n",
    "df_covid_19"
   ]
  },
  {
   "cell_type": "code",
   "execution_count": 18,
   "id": "14c9159e",
   "metadata": {
    "scrolled": false,
    "tags": [
     "output_scroll"
    ]
   },
   "outputs": [
    {
     "data": {
      "text/html": [
       "<div>\n",
       "<style scoped>\n",
       "    .dataframe tbody tr th:only-of-type {\n",
       "        vertical-align: middle;\n",
       "    }\n",
       "\n",
       "    .dataframe tbody tr th {\n",
       "        vertical-align: top;\n",
       "    }\n",
       "\n",
       "    .dataframe thead tr th {\n",
       "        text-align: left;\n",
       "    }\n",
       "\n",
       "    .dataframe thead tr:last-of-type th {\n",
       "        text-align: right;\n",
       "    }\n",
       "</style>\n",
       "<table border=\"1\" class=\"dataframe\">\n",
       "  <thead>\n",
       "    <tr>\n",
       "      <th></th>\n",
       "      <th>noti</th>\n",
       "      <th>covid</th>\n",
       "    </tr>\n",
       "    <tr>\n",
       "      <th></th>\n",
       "      <th>chat</th>\n",
       "      <th>chat</th>\n",
       "    </tr>\n",
       "    <tr>\n",
       "      <th>id</th>\n",
       "      <th></th>\n",
       "      <th></th>\n",
       "    </tr>\n",
       "  </thead>\n",
       "  <tbody>\n",
       "    <tr>\n",
       "      <th>1000060.0</th>\n",
       "      <td>Siempre</td>\n",
       "      <td>Siempre</td>\n",
       "    </tr>\n",
       "    <tr>\n",
       "      <th>1000734.0</th>\n",
       "      <td>A veces</td>\n",
       "      <td>Casi siempre</td>\n",
       "    </tr>\n",
       "    <tr>\n",
       "      <th>1000120.0</th>\n",
       "      <td>A veces</td>\n",
       "      <td>A veces</td>\n",
       "    </tr>\n",
       "    <tr>\n",
       "      <th>1000235.0</th>\n",
       "      <td>Siempre</td>\n",
       "      <td>Siempre</td>\n",
       "    </tr>\n",
       "    <tr>\n",
       "      <th>1000828.0</th>\n",
       "      <td>A veces</td>\n",
       "      <td>Casi siempre</td>\n",
       "    </tr>\n",
       "    <tr>\n",
       "      <th>...</th>\n",
       "      <td>...</td>\n",
       "      <td>...</td>\n",
       "    </tr>\n",
       "    <tr>\n",
       "      <th>17001614.0</th>\n",
       "      <td>A veces</td>\n",
       "      <td>A veces</td>\n",
       "    </tr>\n",
       "    <tr>\n",
       "      <th>17017448.0</th>\n",
       "      <td>Siempre</td>\n",
       "      <td>Siempre</td>\n",
       "    </tr>\n",
       "    <tr>\n",
       "      <th>17013032.0</th>\n",
       "      <td>Siempre</td>\n",
       "      <td>Casi siempre</td>\n",
       "    </tr>\n",
       "    <tr>\n",
       "      <th>17014760.0</th>\n",
       "      <td>Siempre</td>\n",
       "      <td>Siempre</td>\n",
       "    </tr>\n",
       "    <tr>\n",
       "      <th>17003990.0</th>\n",
       "      <td>Nunca</td>\n",
       "      <td>Nunca</td>\n",
       "    </tr>\n",
       "  </tbody>\n",
       "</table>\n",
       "<p>216092 rows × 2 columns</p>\n",
       "</div>"
      ],
      "text/plain": [
       "               noti         covid\n",
       "               chat          chat\n",
       "id                               \n",
       "1000060.0   Siempre       Siempre\n",
       "1000734.0   A veces  Casi siempre\n",
       "1000120.0   A veces       A veces\n",
       "1000235.0   Siempre       Siempre\n",
       "1000828.0   A veces  Casi siempre\n",
       "...             ...           ...\n",
       "17001614.0  A veces       A veces\n",
       "17017448.0  Siempre       Siempre\n",
       "17013032.0  Siempre  Casi siempre\n",
       "17014760.0  Siempre       Siempre\n",
       "17003990.0    Nunca         Nunca\n",
       "\n",
       "[216092 rows x 2 columns]"
      ]
     },
     "metadata": {},
     "output_type": "display_data"
    },
    {
     "data": {
      "image/png": "[encoded data removed]",
      "text/plain": [
       "<Figure size 640x480 with 1 Axes>"
      ]
     },
     "metadata": {},
     "output_type": "display_data"
    }
   ],
   "source": [
    "data = df_covid_19.loc[:, pd.IndexSlice[:, 'chat']]       # Filtramos los datos con el objetivo de analizar el uso del medio de comunicación de chat.\n",
    "display(data)\n",
    "# Declaramos el gráfico de barras utilizando el método countplot.\n",
    "ax = sns.countplot(x = pd.IndexSlice['covid', 'chat'],   # Ubicamos las categorías de la frencuencia del uso de este medio de comunicación en el eje x.\n",
    "                   data = data                           # Utilizamos los datos filtrados previamente.\n",
    "                  )                                       "
   ]
  },
  {
   "cell_type": "markdown",
   "id": "a0fbfe1d",
   "metadata": {},
   "source": [
    "Ahora, utilizaremos el parámetro `hue` para añadir el uso del medio de comunicación de las noticias a nuestra visualización. Además, utilizaremos el parámetro `hue_order` para establecer el orden en el que queremos que aparezcan las categorías en nuestra visualización."
   ]
  },
  {
   "cell_type": "code",
   "execution_count": 20,
   "id": "47969ea7",
   "metadata": {
    "scrolled": false
   },
   "outputs": [
    {
     "data": {
      "image/png": "[encoded data removed]",
      "text/plain": [
       "<Figure size 640x480 with 1 Axes>"
      ]
     },
     "metadata": {},
     "output_type": "display_data"
    }
   ],
   "source": [
    "ax = sns.countplot(x = pd.IndexSlice['covid', 'chat'],                            # Añadimos otra categoría a la visualización: el uso del medio de comunicación de las noticias.\n",
    "                   hue = pd.IndexSlice['noti', 'chat'],                           # Ubicamos las categorías de la frencuencia del uso de este medio de comunicación en el eje x.\n",
    "                   hue_order = ['Siempre', 'Casi siempre', 'A veces', 'Nunca'],   # Establecemos un orden para las categorías.\n",
    "                   data = data                                                    # Utilizamos los datos filtrados previamente.\n",
    "                  ) "
   ]
  },
  {
   "cell_type": "markdown",
   "id": "e4df5584",
   "metadata": {},
   "source": [
    "Por último, editamos el gráfico. Para esto, utilizamos los métodos vistos anteriormente para los objetos de tipo `axes` y el módulo `pyplot` de `matplotlib`. "
   ]
  },
  {
   "cell_type": "code",
   "execution_count": 21,
   "id": "8b434936",
   "metadata": {
    "scrolled": true
   },
   "outputs": [
    {
     "data": {
      "image/png": "[encoded data removed]",
      "text/plain": [
       "<Figure size 640x480 with 1 Axes>"
      ]
     },
     "metadata": {},
     "output_type": "display_data"
    }
   ],
   "source": [
    "# Declaramos el gráfico de barras utilizando el método countplot.\n",
    "ax = sns.countplot(x = pd.IndexSlice['covid', 'chat'], \n",
    "                   hue = pd.IndexSlice['noti', 'chat'], \n",
    "                   hue_order = ['Siempre', 'Casi siempre', 'A veces', 'Nunca'], \n",
    "                   data = data\n",
    "                  )\n",
    "\n",
    "ax.legend_.remove()                                                            # Eliminamos la leyenda del gráfico.\n",
    "ax.set(xlabel = 'Chat como fuente de info. sobre el Covid-19',                 # Añadimos una etiqueta al eje x.\n",
    "       ylabel = 'Personas'                                                     # Añadimos una etiqueta al eje y.\n",
    "      )                                                         \n",
    "ax.set_ybound(upper = 60000)                                                   # Declaramos el límite superior en 60000.\n",
    "\n",
    "# Modificamos la leyenda de la visualización.\n",
    "plt.legend(title = 'Chat como fuente de info. general',                        # Añadimos título a la visualización.\n",
    "           loc = 'upper left',                                                 # Ubicamos la leyenda en la parte superior izquierda.\n",
    "           labels = ['Siempre', 'Casi siempre', 'A veces', 'Nunca'],           # Añadimos etiquetas de datos.\n",
    "           prop = {'size': 7}                                                  # Definimos el tamaño de la leyenda.\n",
    "          )                   \n",
    "\n",
    "# Mostramos la visualización.\n",
    "plt.show(ax)              "
   ]
  },
  {
   "cell_type": "markdown",
   "id": "6967c32c",
   "metadata": {},
   "source": [
    "## Referencias"
   ]
  },
  {
   "cell_type": "markdown",
   "id": "8f894369",
   "metadata": {},
   "source": [
    "Seaborn (2020).  Seaborn: statistical data visualization. Recuperado el 11 de febrero de 2020 de: https://seaborn.pydata.org/index.html"
   ]
  },
  {
   "cell_type": "markdown",
   "id": "b7a9fa86",
   "metadata": {},
   "source": [
    "## Créditos"
   ]
  },
  {
   "cell_type": "markdown",
   "id": "f3e203ff",
   "metadata": {},
   "source": [
    "**Autores:** Juan David Reyes Jaimes, Jorge Esteban Camargo Forero, Alejandro Mantilla Redondo, Maria Camila Diaz, Diego Alejandro Cely Gómez\n",
    "\n",
    "**Fecha última actualización:** 12/07/2022"
   ]
  }
 ],
 "metadata": {
  "celltoolbar": "Edit Metadata",
  "kernelspec": {
   "display_name": "Python 3",
   "language": "python",
   "name": "python3"
  },
  "language_info": {
   "codemirror_mode": {
    "name": "ipython",
    "version": 3
   },
   "file_extension": ".py",
   "mimetype": "text/x-python",
   "name": "python",
   "nbconvert_exporter": "python",
   "pygments_lexer": "ipython3",
   "version": "3.10.11"
  }
 },
 "nbformat": 4,
 "nbformat_minor": 5
}
